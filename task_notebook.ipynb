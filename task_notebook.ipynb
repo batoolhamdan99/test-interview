{
 "cells": [
  {
   "cell_type": "code",
   "execution_count": 1,
   "id": "e09633ed",
   "metadata": {},
   "outputs": [],
   "source": [
    "from tensorflow.keras import applications\n",
    "from tensorflow.keras import datasets, layers, models\n",
    "from tensorflow.keras.preprocessing.image import ImageDataGenerator, load_img, img_to_array\n",
    "from tensorflow.keras.optimizers import Adam\n",
    "from tensorflow.keras.layers import Dense, Dropout, Activation, Flatten, Conv2D, MaxPooling2D, BatchNormalization\n",
    "import matplotlib.pyplot as plt \n",
    "import tensorflow as tf\n",
    "from sklearn.metrics import confusion_matrix, classification_report, plot_confusion_matrix\n",
    "\n",
    "from tensorflow.keras.models import Sequential \n",
    "from tensorflow.keras.applications.imagenet_utils import preprocess_input\n",
    "import matplotlib.pyplot as plt \n",
    "import tensorflow as tf\n",
    "from tensorflow.keras.models import Sequential \n",
    "from tensorflow.keras import regularizers\n",
    "\n",
    "from tensorflow.keras.callbacks import EarlyStopping, ReduceLROnPlateau, ModelCheckpoint\n",
    "from tensorflow.keras.metrics import categorical_crossentropy\n",
    "from tensorflow.keras.preprocessing import image\n",
    "from tensorflow.keras.models import Model\n",
    "%matplotlib inline"
   ]
  },
  {
   "cell_type": "code",
   "execution_count": 2,
   "id": "d552f771",
   "metadata": {},
   "outputs": [],
   "source": [
    "img_path = r\"C:\\Users\\Batool\\Desktop\\task\\dataset\""
   ]
  },
  {
   "cell_type": "code",
   "execution_count": 32,
   "id": "449db92c",
   "metadata": {},
   "outputs": [
    {
     "name": "stdout",
     "output_type": "stream",
     "text": [
      "Found 1165 images belonging to 3 classes.\n",
      "Found 1165 images belonging to 3 classes.\n"
     ]
    }
   ],
   "source": [
    "data =ImageDataGenerator(rescale=1./255, shear_range=0.5, zoom_range=0.5, \n",
    "                            validation_split=0.5, preprocessing_function=preprocess_input,\n",
    "                            width_shift_range=0.5, \n",
    "                            horizontal_flip=True,\n",
    "                            fill_mode='nearest',\n",
    "                            height_shift_range=0.5, channel_shift_range=                            \n",
    "                         \n",
    "                        \n",
    "                        )\n",
    "\n",
    "\n",
    "train = data.flow_from_directory(img_path, subset='training', target_size=(224,224), class_mode='categorical', shuffle=True )\n",
    "test = data.flow_from_directory(img_path, subset='validation', target_size=(224,224), shuffle=True, class_mode='categorical')"
   ]
  },
  {
   "cell_type": "code",
   "execution_count": 4,
   "id": "cc027d16",
   "metadata": {},
   "outputs": [
    {
     "data": {
      "text/plain": [
       "{'bus': 0, 'car': 1, 'truck': 2}"
      ]
     },
     "execution_count": 4,
     "metadata": {},
     "output_type": "execute_result"
    }
   ],
   "source": [
    "train.class_indices"
   ]
  },
  {
   "cell_type": "code",
   "execution_count": 5,
   "id": "fc5bddf5",
   "metadata": {},
   "outputs": [
    {
     "data": {
      "text/plain": [
       "{'bus': 0, 'car': 1, 'truck': 2}"
      ]
     },
     "execution_count": 5,
     "metadata": {},
     "output_type": "execute_result"
    }
   ],
   "source": [
    "test.class_indices"
   ]
  },
  {
   "cell_type": "code",
   "execution_count": 6,
   "id": "29c8993c",
   "metadata": {},
   "outputs": [],
   "source": [
    "model = applications.VGG16(weights = \"imagenet\", include_top=False, input_shape = (224, 224, 3))\n",
    "for layer in model.layers[:17]:\n",
    "    layer.trainable = False\n",
    "\n",
    "#Adding custom Layers \n",
    "\n",
    "x = model.output\n",
    "x = Flatten()(x)\n",
    "x = Dense(256, activation=\"relu\")(x)\n",
    "x = Dropout(0.25)(x)\n",
    "x = Dense(512, activation=\"relu\")(x)\n",
    "\n",
    "predictions = Dense(3, activation=\"softmax\")(x)\n",
    "\n",
    "# creating the final model \n",
    "model = Model(inputs = model.input, outputs = predictions)\n",
    "\n",
    "# compile the model \n"
   ]
  },
  {
   "cell_type": "code",
   "execution_count": 7,
   "id": "195a0e48",
   "metadata": {},
   "outputs": [
    {
     "name": "stdout",
     "output_type": "stream",
     "text": [
      "Model: \"model\"\n",
      "_________________________________________________________________\n",
      " Layer (type)                Output Shape              Param #   \n",
      "=================================================================\n",
      " input_1 (InputLayer)        [(None, 224, 224, 3)]     0         \n",
      "                                                                 \n",
      " block1_conv1 (Conv2D)       (None, 224, 224, 64)      1792      \n",
      "                                                                 \n",
      " block1_conv2 (Conv2D)       (None, 224, 224, 64)      36928     \n",
      "                                                                 \n",
      " block1_pool (MaxPooling2D)  (None, 112, 112, 64)      0         \n",
      "                                                                 \n",
      " block2_conv1 (Conv2D)       (None, 112, 112, 128)     73856     \n",
      "                                                                 \n",
      " block2_conv2 (Conv2D)       (None, 112, 112, 128)     147584    \n",
      "                                                                 \n",
      " block2_pool (MaxPooling2D)  (None, 56, 56, 128)       0         \n",
      "                                                                 \n",
      " block3_conv1 (Conv2D)       (None, 56, 56, 256)       295168    \n",
      "                                                                 \n",
      " block3_conv2 (Conv2D)       (None, 56, 56, 256)       590080    \n",
      "                                                                 \n",
      " block3_conv3 (Conv2D)       (None, 56, 56, 256)       590080    \n",
      "                                                                 \n",
      " block3_pool (MaxPooling2D)  (None, 28, 28, 256)       0         \n",
      "                                                                 \n",
      " block4_conv1 (Conv2D)       (None, 28, 28, 512)       1180160   \n",
      "                                                                 \n",
      " block4_conv2 (Conv2D)       (None, 28, 28, 512)       2359808   \n",
      "                                                                 \n",
      " block4_conv3 (Conv2D)       (None, 28, 28, 512)       2359808   \n",
      "                                                                 \n",
      " block4_pool (MaxPooling2D)  (None, 14, 14, 512)       0         \n",
      "                                                                 \n",
      " block5_conv1 (Conv2D)       (None, 14, 14, 512)       2359808   \n",
      "                                                                 \n",
      " block5_conv2 (Conv2D)       (None, 14, 14, 512)       2359808   \n",
      "                                                                 \n",
      " block5_conv3 (Conv2D)       (None, 14, 14, 512)       2359808   \n",
      "                                                                 \n",
      " block5_pool (MaxPooling2D)  (None, 7, 7, 512)         0         \n",
      "                                                                 \n",
      " flatten (Flatten)           (None, 25088)             0         \n",
      "                                                                 \n",
      " dense (Dense)               (None, 256)               6422784   \n",
      "                                                                 \n",
      " dropout (Dropout)           (None, 256)               0         \n",
      "                                                                 \n",
      " dense_1 (Dense)             (None, 512)               131584    \n",
      "                                                                 \n",
      " dense_2 (Dense)             (None, 3)                 1539      \n",
      "                                                                 \n",
      "=================================================================\n",
      "Total params: 21,270,595\n",
      "Trainable params: 8,915,715\n",
      "Non-trainable params: 12,354,880\n",
      "_________________________________________________________________\n"
     ]
    }
   ],
   "source": [
    "model.summary()\n"
   ]
  },
  {
   "cell_type": "code",
   "execution_count": 8,
   "id": "23254328",
   "metadata": {},
   "outputs": [],
   "source": [
    "early_stop=EarlyStopping(monitor='val_loss', min_delta=0.005, patience=10, mode='min')\n"
   ]
  },
  {
   "cell_type": "code",
   "execution_count": 9,
   "id": "a952b390",
   "metadata": {},
   "outputs": [],
   "source": [
    "reduce_lr = ReduceLROnPlateau(monitor='val_loss', patience = 5, verbose=1)"
   ]
  },
  {
   "cell_type": "code",
   "execution_count": 10,
   "id": "459130a4",
   "metadata": {},
   "outputs": [],
   "source": [
    "mc = ModelCheckpoint('besodel.h5', monitor='val_accuracy', mode='max', verbose=1, save_best_only=True)"
   ]
  },
  {
   "cell_type": "code",
   "execution_count": 11,
   "id": "88b5ae09",
   "metadata": {},
   "outputs": [],
   "source": [
    "model.compile(optimizer=Adam(learning_rate=0.001), loss='categorical_crossentropy', metrics=['accuracy'])"
   ]
  },
  {
   "cell_type": "code",
   "execution_count": 12,
   "id": "4d12a9bf",
   "metadata": {},
   "outputs": [
    {
     "name": "stdout",
     "output_type": "stream",
     "text": [
      "Epoch 1/25\n",
      "37/37 [==============================] - ETA: 0s - loss: 1.1182 - accuracy: 0.5099\n",
      "Epoch 1: val_accuracy improved from -inf to 0.67039, saving model to best_model.h5\n",
      "37/37 [==============================] - 399s 11s/step - loss: 1.1182 - accuracy: 0.5099 - val_loss: 0.8036 - val_accuracy: 0.6704 - lr: 0.0010\n",
      "Epoch 2/25\n",
      "37/37 [==============================] - ETA: 0s - loss: 0.6174 - accuracy: 0.7296\n",
      "Epoch 2: val_accuracy improved from 0.67039 to 0.72446, saving model to best_model.h5\n",
      "37/37 [==============================] - 468s 13s/step - loss: 0.6174 - accuracy: 0.7296 - val_loss: 0.6414 - val_accuracy: 0.7245 - lr: 0.0010\n",
      "Epoch 3/25\n",
      "37/37 [==============================] - ETA: 0s - loss: 0.5582 - accuracy: 0.7854\n",
      "Epoch 3: val_accuracy improved from 0.72446 to 0.79313, saving model to best_model.h5\n",
      "37/37 [==============================] - 451s 12s/step - loss: 0.5582 - accuracy: 0.7854 - val_loss: 0.5141 - val_accuracy: 0.7931 - lr: 0.0010\n",
      "Epoch 4/25\n",
      "37/37 [==============================] - ETA: 0s - loss: 0.4811 - accuracy: 0.8017\n",
      "Epoch 4: val_accuracy did not improve from 0.79313\n",
      "37/37 [==============================] - 440s 12s/step - loss: 0.4811 - accuracy: 0.8017 - val_loss: 0.5261 - val_accuracy: 0.7871 - lr: 0.0010\n",
      "Epoch 5/25\n",
      "37/37 [==============================] - ETA: 0s - loss: 0.4581 - accuracy: 0.8060\n",
      "Epoch 5: val_accuracy improved from 0.79313 to 0.80086, saving model to best_model.h5\n",
      "37/37 [==============================] - 439s 12s/step - loss: 0.4581 - accuracy: 0.8060 - val_loss: 0.4895 - val_accuracy: 0.8009 - lr: 0.0010\n",
      "Epoch 6/25\n",
      "37/37 [==============================] - ETA: 0s - loss: 0.4627 - accuracy: 0.8137\n",
      "Epoch 6: val_accuracy did not improve from 0.80086\n",
      "37/37 [==============================] - 458s 13s/step - loss: 0.4627 - accuracy: 0.8137 - val_loss: 0.5309 - val_accuracy: 0.7974 - lr: 0.0010\n",
      "Epoch 7/25\n",
      "37/37 [==============================] - ETA: 0s - loss: 0.4586 - accuracy: 0.8172\n",
      "Epoch 7: val_accuracy improved from 0.80086 to 0.83348, saving model to best_model.h5\n",
      "37/37 [==============================] - 466s 13s/step - loss: 0.4586 - accuracy: 0.8172 - val_loss: 0.4399 - val_accuracy: 0.8335 - lr: 0.0010\n",
      "Epoch 8/25\n",
      "37/37 [==============================] - ETA: 0s - loss: 0.3996 - accuracy: 0.8326\n",
      "Epoch 8: val_accuracy did not improve from 0.83348\n",
      "37/37 [==============================] - 481s 13s/step - loss: 0.3996 - accuracy: 0.8326 - val_loss: 0.4777 - val_accuracy: 0.8223 - lr: 0.0010\n",
      "Epoch 9/25\n",
      "37/37 [==============================] - ETA: 0s - loss: 0.4160 - accuracy: 0.8403\n",
      "Epoch 9: val_accuracy did not improve from 0.83348\n",
      "37/37 [==============================] - 531s 14s/step - loss: 0.4160 - accuracy: 0.8403 - val_loss: 0.5098 - val_accuracy: 0.8034 - lr: 0.0010\n",
      "Epoch 10/25\n",
      "37/37 [==============================] - ETA: 0s - loss: 0.3779 - accuracy: 0.8532\n",
      "Epoch 10: val_accuracy did not improve from 0.83348\n",
      "37/37 [==============================] - 480s 13s/step - loss: 0.3779 - accuracy: 0.8532 - val_loss: 0.4510 - val_accuracy: 0.8300 - lr: 0.0010\n",
      "Epoch 11/25\n",
      "37/37 [==============================] - ETA: 0s - loss: 0.3638 - accuracy: 0.8575\n",
      "Epoch 11: val_accuracy did not improve from 0.83348\n",
      "37/37 [==============================] - 413s 11s/step - loss: 0.3638 - accuracy: 0.8575 - val_loss: 0.4665 - val_accuracy: 0.8206 - lr: 0.0010\n"
     ]
    }
   ],
   "source": [
    "history=model.fit(train, validation_data = test, epochs=30, verbose=1, batch_size=16,  callbacks=[reduce_lr, early_stop, mc])\n"
   ]
  },
  {
   "cell_type": "code",
   "execution_count": 21,
   "id": "5935083e",
   "metadata": {},
   "outputs": [],
   "source": [
    "classes= train.class_indices\n",
    "\n",
    "\n",
    "from sklearn.metrics import confusion_matrix\n",
    "\n",
    "from matplotlib import pyplot as plt\n",
    "import numpy as np"
   ]
  },
  {
   "cell_type": "code",
   "execution_count": 22,
   "id": "99c692c7",
   "metadata": {},
   "outputs": [
    {
     "name": "stdout",
     "output_type": "stream",
     "text": [
      "37/37 [==============================] - 227s 6s/step\n"
     ]
    },
    {
     "data": {
      "image/png": "[encoded data removed]",
      "text/plain": [
       "<Figure size 720x576 with 2 Axes>"
      ]
     },
     "metadata": {
      "needs_background": "light"
     },
     "output_type": "display_data"
    }
   ],
   "source": [
    "import numpy as np\n",
    "import seaborn as sns\n",
    "\n",
    "predictions= model.predict(test)\n",
    "predictions= np.argmax (predictions,axis=1)\n",
    "predictions\n",
    "cm=confusion_matrix(test.classes,predictions)\n",
    "plt.figure(figsize=[10,8])\n",
    "ax = sns.heatmap(cm, annot=True, annot_kws={\"size\": 10}, fmt=\"d\", cmap='Greens')          \n",
    "ax.set_title('Confusion Matrix');\n",
    "ax.set_xlabel('\\nPredicted Values')\n",
    "ax.set_ylabel('Actual Values');\n",
    "plt.show()"
   ]
  },
  {
   "cell_type": "code",
   "execution_count": 23,
   "id": "8cca8c29",
   "metadata": {},
   "outputs": [
    {
     "name": "stdout",
     "output_type": "stream",
     "text": [
      "              precision    recall  f1-score   support\n",
      "\n",
      "           0       0.37      0.37      0.37       433\n",
      "           1       0.40      0.43      0.41       443\n",
      "           2       0.25      0.23      0.24       289\n",
      "\n",
      "    accuracy                           0.36      1165\n",
      "   macro avg       0.34      0.34      0.34      1165\n",
      "weighted avg       0.35      0.36      0.36      1165\n",
      "\n"
     ]
    }
   ],
   "source": [
    "import pandas as pd\n",
    "from sklearn.metrics import classification_report\n",
    "\n",
    "print(classification_report(test.classes, predictions))"
   ]
  },
  {
   "cell_type": "code",
   "execution_count": 24,
   "id": "f0f4074c",
   "metadata": {},
   "outputs": [],
   "source": [
    "def plot_metric(history, metric):\n",
    "    train_metrics = history.history[metric]\n",
    "    val_metrics = history.history['val_'+metric]\n",
    "    epochs = range(1, len(train_metrics) + 1)\n",
    "    plt.plot(epochs, train_metrics)\n",
    "    plt.plot(epochs, val_metrics)\n",
    "    plt.title('Training and validation' + metric)\n",
    "    plt.xlabel(\"Epochs\")\n",
    "    plt.ylabel(metric)\n",
    "    plt.legend([\"train_\"+metric, 'val_'+ metric])\n",
    "    plt.show()"
   ]
  },
  {
   "cell_type": "code",
   "execution_count": 25,
   "id": "8513a094",
   "metadata": {},
   "outputs": [
    {
     "data": {
      "image/png": "[encoded data removed]",
      "text/plain": [
       "<Figure size 576x576 with 1 Axes>"
      ]
     },
     "metadata": {
      "needs_background": "light"
     },
     "output_type": "display_data"
    }
   ],
   "source": [
    "plt.figure (figsize=[8,8])\n",
    "plot_metric(history, 'loss')"
   ]
  },
  {
   "cell_type": "code",
   "execution_count": 26,
   "id": "2cbaade7",
   "metadata": {},
   "outputs": [
    {
     "data": {
      "image/png": "[encoded data removed]",
      "text/plain": [
       "<Figure size 576x576 with 1 Axes>"
      ]
     },
     "metadata": {
      "needs_background": "light"
     },
     "output_type": "display_data"
    }
   ],
   "source": [
    "plt. figure (figsize=[8,8])\n",
    "plot_metric(history, 'accuracy')\n",
    "\n"
   ]
  },
  {
   "cell_type": "code",
   "execution_count": 27,
   "id": "c78e6808",
   "metadata": {},
   "outputs": [],
   "source": [
    "import cv2\n",
    "import numpy\n",
    "from tensorflow import keras\n",
    "\n",
    "cap = cv2.VideoCapture(\"C:/Users/Batool/Desktop/task/demo.mkv\")\n",
    "\n",
    "frame_width = int(cap.get(3))\n",
    "frame_height = int(cap.get(4))\n",
    "size = (224, 224)\n",
    "\n",
    "result = cv2.VideoWriter('out.avi', cv2.VideoWriter_fourcc(*'MJPG'),\n",
    "                         fps=20, frameSize=size)\n",
    "\n",
    "frames = []\n",
    "while(cap.isOpened()):\n",
    "  ret, frame = cap.read()\n",
    "  if ret == True:\n",
    "    frame = cv2.resize(frame, (224, 224))\n",
    "    frames.append(frame)\n",
    "  else:\n",
    "    break\n",
    "frames_arr = numpy.array(frames)"
   ]
  },
  {
   "cell_type": "code",
   "execution_count": 30,
   "id": "d8c8fa5b",
   "metadata": {},
   "outputs": [
    {
     "name": "stdout",
     "output_type": "stream",
     "text": [
      "112/112 [==============================] - 555s 5s/step\n"
     ]
    }
   ],
   "source": [
    "model = keras.models.load_model(r\"C:\\Users\\Batool\\Desktop\\task\\Untitled Folder\\best_model.h5\")\n",
    "predictions = model.predict(frames_arr)\n",
    "out = predictions.argmax(axis=1)"
   ]
  },
  {
   "cell_type": "code",
   "execution_count": 31,
   "id": "db48cf23",
   "metadata": {},
   "outputs": [],
   "source": [
    "for i, f in enumerate(frames):\n",
    "  label = {0:'bus', 1:'car', 2:'truck'}\n",
    "  index = out[i]\n",
    "  image = cv2.putText(f,label[index], (50,50), cv2.FONT_HERSHEY_SIMPLEX, 1, (255, 0, 0), 1, 255)\n",
    "  cv2.imwrite(\"test.jpg\", image)\n",
    "  result.write(image)\n",
    "result.release()"
   ]
  },
  {
   "cell_type": "code",
   "execution_count": null,
   "id": "f61fa585",
   "metadata": {},
   "outputs": [],
   "source": [
    "!cp -r '/content/out.avi' -d '/content/drive/'"
   ]
  },
  {
   "cell_type": "code",
   "execution_count": null,
   "id": "0f3cb310",
   "metadata": {},
   "outputs": [],
   "source": []
  },
  {
   "cell_type": "code",
   "execution_count": null,
   "id": "2314566e",
   "metadata": {},
   "outputs": [],
   "source": []
  },
  {
   "cell_type": "code",
   "execution_count": null,
   "id": "96772169",
   "metadata": {},
   "outputs": [],
   "source": []
  },
  {
   "cell_type": "code",
   "execution_count": null,
   "id": "18c00c0d",
   "metadata": {},
   "outputs": [],
   "source": []
  },
  {
   "cell_type": "code",
   "execution_count": null,
   "id": "4b6cc5d4",
   "metadata": {},
   "outputs": [],
   "source": []
  },
  {
   "cell_type": "code",
   "execution_count": null,
   "id": "ccaa2125",
   "metadata": {},
   "outputs": [],
   "source": []
  }
 ],
 "metadata": {
  "kernelspec": {
   "display_name": "Python 3 (ipykernel)",
   "language": "python",
   "name": "python3"
  },
  "language_info": {
   "codemirror_mode": {
    "name": "ipython",
    "version": 3
   },
   "file_extension": ".py",
   "mimetype": "text/x-python",
   "name": "python",
   "nbconvert_exporter": "python",
   "pygments_lexer": "ipython3",
   "version": "3.9.7"
  }
 },
 "nbformat": 4,
 "nbformat_minor": 5
}
